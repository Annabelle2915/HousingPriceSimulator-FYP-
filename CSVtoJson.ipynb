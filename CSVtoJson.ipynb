{
  "nbformat": 4,
  "nbformat_minor": 0,
  "metadata": {
    "colab": {
      "provenance": [],
      "authorship_tag": "ABX9TyPVKJ5zzMGAeMIwx6iD1Zw4",
      "include_colab_link": true
    },
    "kernelspec": {
      "name": "python3",
      "display_name": "Python 3"
    },
    "language_info": {
      "name": "python"
    }
  },
  "cells": [
    {
      "cell_type": "markdown",
      "metadata": {
        "id": "view-in-github",
        "colab_type": "text"
      },
      "source": [
        "<a href=\"https://colab.research.google.com/github/Annabelle2915/PropertyAI-HousingPriceSimulatorMobileApp/blob/main/CSVtoJson.ipynb\" target=\"_parent\"><img src=\"https://colab.research.google.com/assets/colab-badge.svg\" alt=\"Open In Colab\"/></a>"
      ]
    },
    {
      "cell_type": "code",
      "source": [
        "import csv\n",
        "import json\n",
        "import requests\n",
        "import os\n",
        "\n",
        "def csv_to_json(csv_url, json_file_path):\n",
        "    # Download the CSV file from the provided URL\n",
        "    response = requests.get(csv_url)\n",
        "\n",
        "    # Check if the request was successful\n",
        "    if response.status_code == 200:\n",
        "        # Read the CSV content from the response\n",
        "        csv_content = response.text\n",
        "\n",
        "        # Parse the CSV content\n",
        "        csv_data = csv.DictReader(csv_content.splitlines())\n",
        "\n",
        "        # Convert each row of the CSV data to a dictionary\n",
        "        data = [row for row in csv_data]\n",
        "\n",
        "        # Open the JSON file for writing\n",
        "        with open(json_file_path, 'w') as json_file:\n",
        "            # Write the data to the JSON file\n",
        "            json.dump(data, json_file, indent=4)\n",
        "\n",
        "        print(\"CSV file converted to JSON successfully.\")\n",
        "        print(\"JSON file saved at:\", json_file_path)\n",
        "    else:\n",
        "        print(\"Failed to download the CSV file.\")\n",
        "\n",
        "# Specify the URL of the CSV file\n",
        "csv_url = \"https://github.com/Annabelle2915/PropertyAI-HousingPriceSimulatorMobileApp/blob/main/Housing_Data.csv\"\n",
        "\n",
        "# Specify the JSON file name\n",
        "json_file_name = 'housing_data.json'\n",
        "\n",
        "# Get the current working directory\n",
        "cwd = os.getcwd()\n",
        "\n",
        "# Create the JSON file path\n",
        "json_file_path = os.path.join(cwd, json_file_name)\n",
        "\n",
        "# Call the function to convert the CSV file to JSON\n",
        "csv_to_json(csv_url, json_file_path)\n",
        "\n"
      ],
      "metadata": {
        "colab": {
          "base_uri": "https://localhost:8080/"
        },
        "id": "NupDNRH3-Oro",
        "outputId": "44e4333f-9b47-4a0b-af58-af612caacf5a"
      },
      "execution_count": 15,
      "outputs": [
        {
          "output_type": "stream",
          "name": "stdout",
          "text": [
            "CSV file converted to JSON successfully.\n",
            "JSON file saved at: /content/output.json\n"
          ]
        }
      ]
    },
    {
      "cell_type": "code",
      "source": [
        "from google.colab import files\n",
        "\n",
        "# Download the JSON file\n",
        "files.download('/content/output.json')\n"
      ],
      "metadata": {
        "colab": {
          "base_uri": "https://localhost:8080/",
          "height": 16
        },
        "id": "qOGIR602_dSh",
        "outputId": "20be009a-9459-417b-95e9-13ca464a599c"
      },
      "execution_count": 16,
      "outputs": [
        {
          "output_type": "display_data",
          "data": {
            "text/plain": [
              "<IPython.core.display.Javascript object>"
            ],
            "application/javascript": [
              "\n",
              "    async function download(id, filename, size) {\n",
              "      if (!google.colab.kernel.accessAllowed) {\n",
              "        return;\n",
              "      }\n",
              "      const div = document.createElement('div');\n",
              "      const label = document.createElement('label');\n",
              "      label.textContent = `Downloading \"${filename}\": `;\n",
              "      div.appendChild(label);\n",
              "      const progress = document.createElement('progress');\n",
              "      progress.max = size;\n",
              "      div.appendChild(progress);\n",
              "      document.body.appendChild(div);\n",
              "\n",
              "      const buffers = [];\n",
              "      let downloaded = 0;\n",
              "\n",
              "      const channel = await google.colab.kernel.comms.open(id);\n",
              "      // Send a message to notify the kernel that we're ready.\n",
              "      channel.send({})\n",
              "\n",
              "      for await (const message of channel.messages) {\n",
              "        // Send a message to notify the kernel that we're ready.\n",
              "        channel.send({})\n",
              "        if (message.buffers) {\n",
              "          for (const buffer of message.buffers) {\n",
              "            buffers.push(buffer);\n",
              "            downloaded += buffer.byteLength;\n",
              "            progress.value = downloaded;\n",
              "          }\n",
              "        }\n",
              "      }\n",
              "      const blob = new Blob(buffers, {type: 'application/binary'});\n",
              "      const a = document.createElement('a');\n",
              "      a.href = window.URL.createObjectURL(blob);\n",
              "      a.download = filename;\n",
              "      div.appendChild(a);\n",
              "      a.click();\n",
              "      div.remove();\n",
              "    }\n",
              "  "
            ]
          },
          "metadata": {}
        },
        {
          "output_type": "display_data",
          "data": {
            "text/plain": [
              "<IPython.core.display.Javascript object>"
            ],
            "application/javascript": [
              "download(\"download_45e065a9-de37-4c64-97a3-4c92b016233c\", \"output.json\", 226163)"
            ]
          },
          "metadata": {}
        }
      ]
    }
  ]
}