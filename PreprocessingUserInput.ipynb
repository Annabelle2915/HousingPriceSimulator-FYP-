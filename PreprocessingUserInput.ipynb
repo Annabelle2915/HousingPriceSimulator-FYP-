{
  "nbformat": 4,
  "nbformat_minor": 0,
  "metadata": {
    "colab": {
      "provenance": [],
      "authorship_tag": "ABX9TyP1i3faYdueWHiF20LFN4as",
      "include_colab_link": true
    },
    "kernelspec": {
      "name": "python3",
      "display_name": "Python 3"
    },
    "language_info": {
      "name": "python"
    }
  },
  "cells": [
    {
      "cell_type": "markdown",
      "metadata": {
        "id": "view-in-github",
        "colab_type": "text"
      },
      "source": [
        "<a href=\"https://colab.research.google.com/github/Annabelle2915/PropertyAI-HousingPriceSimulatorMobileApp/blob/main/PreprocessingUserInput.ipynb\" target=\"_parent\"><img src=\"https://colab.research.google.com/assets/colab-badge.svg\" alt=\"Open In Colab\"/></a>"
      ]
    },
    {
      "cell_type": "markdown",
      "source": [
        "### **Retriveing User Input From Firebase**"
      ],
      "metadata": {
        "id": "697IrG5Ioz_U"
      }
    },
    {
      "cell_type": "code",
      "source": [
        "# Firebase user input retrieval\n",
        "\n",
        "import firebase_admin\n",
        "from firebase_admin import credentials\n",
        "from firebase_admin import firestore\n",
        "\n",
        "# Initialize Firebase app\n",
        "cred = credentials.Certificate('path/to/serviceAccountKey.json')\n",
        "firebase_admin.initialize_app(cred)\n",
        "\n",
        "# Create a Firestore client\n",
        "db = firestore.client()\n",
        "\n",
        "# Retrieve user input data from Firestore\n",
        "doc_ref = db.collection('user_input').document('user_id')  # Replace 'user_id' with the actual user ID or document ID\n",
        "doc = doc_ref.get()\n",
        "\n",
        "if doc.exists:\n",
        "    user_input_data = doc.to_dict()\n",
        "    # Continue with the preprocessing steps and prediction\n",
        "else:\n",
        "    # Handle the case when the document doesn't exist\n"
      ],
      "metadata": {
        "id": "8RnjRbbImFB0"
      },
      "execution_count": null,
      "outputs": []
    },
    {
      "cell_type": "markdown",
      "source": [
        "### **Function For Preprocessing User Input From Mobile Appliation**"
      ],
      "metadata": {
        "id": "LNxh54sFoleD"
      }
    },
    {
      "cell_type": "code",
      "execution_count": null,
      "metadata": {
        "id": "Xx7tWmxtl_ZK"
      },
      "outputs": [],
      "source": [
        "# User Input Preprocessing\n",
        "\n",
        "import numpy as np\n",
        "from sklearn.preprocessing import StandardScaler, OneHotEncoder\n",
        "\n",
        "# Retrieve user input data from the database\n",
        "user_input_data = retrieve_user_input_data()  # Implement this function based on your database setup\n",
        "\n",
        "# Extract the relevant features from the retrieved data\n",
        "area = user_input_data['area']\n",
        "bedrooms = user_input_data['bedrooms']\n",
        "bathrooms = user_input_data['bathrooms']\n",
        "location = user_input_data['location']\n",
        "property_type = user_input_data['property_type']\n",
        "\n",
        "# Perform preprocessing steps\n",
        "numerical_data = np.array([[area, bedrooms, bathrooms]])\n",
        "categorical_data = np.array([[location, property_type]])\n",
        "\n",
        "scaler = StandardScaler()\n",
        "numerical_data_scaled = scaler.fit_transform(numerical_data)\n",
        "\n",
        "encoder = OneHotEncoder()\n",
        "categorical_data_encoded = encoder.fit_transform(categorical_data).toarray()\n",
        "\n",
        "# Combine the preprocessed numerical and categorical data\n",
        "preprocessed_data = np.concatenate((numerical_data_scaled, categorical_data_encoded), axis=1)\n",
        "\n",
        " # Load the housing price model\n",
        "    housing_model = HousingPriceModel.load_model('path/to/housing_model.pkl')  # Replace with the actual path to your model file\n",
        "\n",
        "    # Make the prediction using the preprocessed data\n",
        "    predicted_price = housing_model.predict(preprocessed_data)\n",
        "else:\n",
        "\n"
      ]
    }
  ]
}