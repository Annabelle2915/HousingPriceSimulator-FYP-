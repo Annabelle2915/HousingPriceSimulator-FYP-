{
  "nbformat": 4,
  "nbformat_minor": 0,
  "metadata": {
    "colab": {
      "provenance": [],
      "authorship_tag": "ABX9TyNJn1bbWCvimttQsD8+Lwp5",
      "include_colab_link": true
    },
    "kernelspec": {
      "name": "python3",
      "display_name": "Python 3"
    },
    "language_info": {
      "name": "python"
    }
  },
  "cells": [
    {
      "cell_type": "markdown",
      "metadata": {
        "id": "view-in-github",
        "colab_type": "text"
      },
      "source": [
        "<a href=\"https://colab.research.google.com/github/Annabelle2915/PropertyAI-HousingPriceSimulatorMobileApp/blob/main/PreprocessingUserInput.ipynb\" target=\"_parent\"><img src=\"https://colab.research.google.com/assets/colab-badge.svg\" alt=\"Open In Colab\"/></a>"
      ]
    },
    {
      "cell_type": "markdown",
      "source": [
        "### **Retriveing User Input From Firebase**"
      ],
      "metadata": {
        "id": "697IrG5Ioz_U"
      }
    },
    {
      "cell_type": "code",
      "source": [
        "import firebase_admin\n",
        "from firebase_admin import credentials\n",
        "from firebase_admin import db\n",
        "\n",
        "# Initialize the Firebase Admin SDK with your credentials\n",
        "cred = credentials.Certificate('path/to/serviceAccountKey.json')\n",
        "firebase_admin.initialize_app(cred, {\n",
        "    'databaseURL': 'https://-firebase-project.firebaseio.com'\n",
        "})\n",
        "\n",
        "# Create a reference to the Firebase Realtime Database\n",
        "ref = db.reference('/path/to/data')\n",
        "\n",
        "# Retrieve data from Firebase\n",
        "data = ref.get()\n",
        "\n"
      ],
      "metadata": {
        "id": "3wsYEPaBpo8c"
      },
      "execution_count": null,
      "outputs": []
    },
    {
      "cell_type": "markdown",
      "source": [
        "## **Preprocessing User Input**"
      ],
      "metadata": {
        "id": "d_vGjxttpvru"
      }
    },
    {
      "cell_type": "code",
      "source": [
        "import joblib\n",
        "import pandas as pd\n",
        "\n",
        "# Load the preprocessor for user input\n",
        "preprocessor_user_input = joblib.load('preprocessor_model.pkl')\n",
        "\n",
        "# Load the XGBoost model\n",
        "model = joblib.load('xgb_model.pkl')\n",
        "\n",
        "# Assuming the user input retrieved from Firebase and stored it in a variable called 'user_data'\n",
        "user_input = {\n",
        "    'Luas Lot': user_data['Luas Lot'],\n",
        "    'TENURE': user_data['TENURE'],\n",
        "    'Tenure Type': user_data['Tenure Type'],\n",
        "    'Lease Term': user_data['Lease Term'],\n",
        "    'Expiry of leasehold term (years)': user_data['Expiry of leasehold term (years)'],\n",
        "    'Jenis Bangunan': user_data['Jenis Bangunan'],\n",
        "    'Bil. Tkt. Atas Tanah': user_data['Bil. Tkt. Atas Tanah'],\n",
        "    'Bil. Bilik Tidur': user_data['Bil. Bilik Tidur'],\n",
        "    'Luas Bgn Utama (mp)': user_data['Luas Bgn Utama (mp)'],\n",
        "    'Kawasan': user_data['Kawasan'],\n",
        "    'Region': user_data['Region'],\n",
        "    'LOCATION (DISTANCE FROM KL)': user_data['LOCATION (DISTANCE FROM KL)'],\n",
        "    'DISTANCE FROM CBD': user_data['DISTANCE FROM CBD'],\n",
        "    'DISTANCE TO NEAREST SHOPPING MALL': user_data['DISTANCE TO NEAREST SHOPPING MALL'],\n",
        "    'DISTANCE TO NEAREST SUPERMARKET': user_data['DISTANCE TO NEAREST SUPERMARKET'],\n",
        "    'Dibayar': user_data['Dibayar']\n",
        "}\n",
        "\n",
        "# Preprocess the user input\n",
        "preprocessed_input = preprocessor_user_input.transform(pd.DataFrame(user_input, index=[0]))\n",
        "\n",
        "# Use the preprocessed data for predictions\n",
        "prediction = model.predict(preprocessed_input)\n",
        "\n",
        "# Display the prediction result\n",
        "print(\"Predicted housing price:\", prediction)\n",
        "\n"
      ],
      "metadata": {
        "id": "2WhG4oyxpp2e"
      },
      "execution_count": null,
      "outputs": []
    }
  ]
}